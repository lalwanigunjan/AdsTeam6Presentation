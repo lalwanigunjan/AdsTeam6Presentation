{
 "cells": [
  {
   "cell_type": "code",
   "execution_count": 33,
   "metadata": {},
   "outputs": [],
   "source": [
    "#load libraries\n",
    "import numpy as np\n",
    "import pandas as pd\n",
    "import matplotlib.pyplot as plt\n",
    "import seaborn as sns\n",
    "from sklearn.ensemble import RandomForestRegressor\n",
    "from sklearn.model_selection import train_test_split\n",
    "from datetime import datetime as dt\n",
    "from sklearn.metrics import mean_squared_error, mean_absolute_error, r2_score\n",
    "from math import sqrt"
   ]
  },
  {
   "cell_type": "code",
   "execution_count": 34,
   "metadata": {},
   "outputs": [],
   "source": [
    "df = pd.read_csv(\"energydata_complete.csv\")"
   ]
  },
  {
   "cell_type": "code",
   "execution_count": 35,
   "metadata": {},
   "outputs": [
    {
     "data": {
      "text/html": [
       "<div>\n",
       "<table border=\"1\" class=\"dataframe\">\n",
       "  <thead>\n",
       "    <tr style=\"text-align: right;\">\n",
       "      <th></th>\n",
       "      <th>Appliances</th>\n",
       "      <th>lights</th>\n",
       "      <th>T1</th>\n",
       "      <th>RH_1</th>\n",
       "      <th>T2</th>\n",
       "      <th>RH_2</th>\n",
       "      <th>T3</th>\n",
       "      <th>RH_3</th>\n",
       "      <th>T4</th>\n",
       "      <th>RH_4</th>\n",
       "      <th>...</th>\n",
       "      <th>T9</th>\n",
       "      <th>RH_9</th>\n",
       "      <th>T_out</th>\n",
       "      <th>Press_mm_hg</th>\n",
       "      <th>RH_out</th>\n",
       "      <th>Windspeed</th>\n",
       "      <th>Visibility</th>\n",
       "      <th>Tdewpoint</th>\n",
       "      <th>rv1</th>\n",
       "      <th>rv2</th>\n",
       "    </tr>\n",
       "  </thead>\n",
       "  <tbody>\n",
       "    <tr>\n",
       "      <th>count</th>\n",
       "      <td>19735.000000</td>\n",
       "      <td>19735.000000</td>\n",
       "      <td>19735.000000</td>\n",
       "      <td>19735.000000</td>\n",
       "      <td>19735.000000</td>\n",
       "      <td>19735.000000</td>\n",
       "      <td>19735.000000</td>\n",
       "      <td>19735.000000</td>\n",
       "      <td>19735.000000</td>\n",
       "      <td>19735.000000</td>\n",
       "      <td>...</td>\n",
       "      <td>19735.000000</td>\n",
       "      <td>19735.000000</td>\n",
       "      <td>19735.000000</td>\n",
       "      <td>19735.000000</td>\n",
       "      <td>19735.000000</td>\n",
       "      <td>19735.000000</td>\n",
       "      <td>19735.000000</td>\n",
       "      <td>19735.000000</td>\n",
       "      <td>19735.000000</td>\n",
       "      <td>19735.000000</td>\n",
       "    </tr>\n",
       "    <tr>\n",
       "      <th>mean</th>\n",
       "      <td>97.694958</td>\n",
       "      <td>3.801875</td>\n",
       "      <td>21.686571</td>\n",
       "      <td>40.259739</td>\n",
       "      <td>20.341219</td>\n",
       "      <td>40.420420</td>\n",
       "      <td>22.267611</td>\n",
       "      <td>39.242500</td>\n",
       "      <td>20.855335</td>\n",
       "      <td>39.026904</td>\n",
       "      <td>...</td>\n",
       "      <td>19.485828</td>\n",
       "      <td>41.552401</td>\n",
       "      <td>7.412580</td>\n",
       "      <td>755.522602</td>\n",
       "      <td>79.750418</td>\n",
       "      <td>4.039752</td>\n",
       "      <td>38.330834</td>\n",
       "      <td>3.760995</td>\n",
       "      <td>24.988033</td>\n",
       "      <td>24.988033</td>\n",
       "    </tr>\n",
       "    <tr>\n",
       "      <th>std</th>\n",
       "      <td>102.524891</td>\n",
       "      <td>7.935988</td>\n",
       "      <td>1.606066</td>\n",
       "      <td>3.979299</td>\n",
       "      <td>2.192974</td>\n",
       "      <td>4.069813</td>\n",
       "      <td>2.006111</td>\n",
       "      <td>3.254576</td>\n",
       "      <td>2.042884</td>\n",
       "      <td>4.341321</td>\n",
       "      <td>...</td>\n",
       "      <td>2.014712</td>\n",
       "      <td>4.151497</td>\n",
       "      <td>5.318464</td>\n",
       "      <td>7.399441</td>\n",
       "      <td>14.901088</td>\n",
       "      <td>2.451221</td>\n",
       "      <td>11.794719</td>\n",
       "      <td>4.195248</td>\n",
       "      <td>14.496634</td>\n",
       "      <td>14.496634</td>\n",
       "    </tr>\n",
       "    <tr>\n",
       "      <th>min</th>\n",
       "      <td>10.000000</td>\n",
       "      <td>0.000000</td>\n",
       "      <td>16.790000</td>\n",
       "      <td>27.023333</td>\n",
       "      <td>16.100000</td>\n",
       "      <td>20.463333</td>\n",
       "      <td>17.200000</td>\n",
       "      <td>28.766667</td>\n",
       "      <td>15.100000</td>\n",
       "      <td>27.660000</td>\n",
       "      <td>...</td>\n",
       "      <td>14.890000</td>\n",
       "      <td>29.166667</td>\n",
       "      <td>-5.000000</td>\n",
       "      <td>729.300000</td>\n",
       "      <td>24.000000</td>\n",
       "      <td>0.000000</td>\n",
       "      <td>1.000000</td>\n",
       "      <td>-6.600000</td>\n",
       "      <td>0.005322</td>\n",
       "      <td>0.005322</td>\n",
       "    </tr>\n",
       "    <tr>\n",
       "      <th>25%</th>\n",
       "      <td>50.000000</td>\n",
       "      <td>0.000000</td>\n",
       "      <td>20.760000</td>\n",
       "      <td>37.333333</td>\n",
       "      <td>18.790000</td>\n",
       "      <td>37.900000</td>\n",
       "      <td>20.790000</td>\n",
       "      <td>36.900000</td>\n",
       "      <td>19.530000</td>\n",
       "      <td>35.530000</td>\n",
       "      <td>...</td>\n",
       "      <td>18.000000</td>\n",
       "      <td>38.500000</td>\n",
       "      <td>3.670000</td>\n",
       "      <td>750.933333</td>\n",
       "      <td>70.333333</td>\n",
       "      <td>2.000000</td>\n",
       "      <td>29.000000</td>\n",
       "      <td>0.900000</td>\n",
       "      <td>12.497889</td>\n",
       "      <td>12.497889</td>\n",
       "    </tr>\n",
       "    <tr>\n",
       "      <th>50%</th>\n",
       "      <td>60.000000</td>\n",
       "      <td>0.000000</td>\n",
       "      <td>21.600000</td>\n",
       "      <td>39.656667</td>\n",
       "      <td>20.000000</td>\n",
       "      <td>40.500000</td>\n",
       "      <td>22.100000</td>\n",
       "      <td>38.530000</td>\n",
       "      <td>20.666667</td>\n",
       "      <td>38.400000</td>\n",
       "      <td>...</td>\n",
       "      <td>19.390000</td>\n",
       "      <td>40.900000</td>\n",
       "      <td>6.920000</td>\n",
       "      <td>756.100000</td>\n",
       "      <td>83.666667</td>\n",
       "      <td>3.666667</td>\n",
       "      <td>40.000000</td>\n",
       "      <td>3.430000</td>\n",
       "      <td>24.897653</td>\n",
       "      <td>24.897653</td>\n",
       "    </tr>\n",
       "    <tr>\n",
       "      <th>75%</th>\n",
       "      <td>100.000000</td>\n",
       "      <td>0.000000</td>\n",
       "      <td>22.600000</td>\n",
       "      <td>43.066667</td>\n",
       "      <td>21.500000</td>\n",
       "      <td>43.260000</td>\n",
       "      <td>23.290000</td>\n",
       "      <td>41.760000</td>\n",
       "      <td>22.100000</td>\n",
       "      <td>42.156667</td>\n",
       "      <td>...</td>\n",
       "      <td>20.600000</td>\n",
       "      <td>44.338095</td>\n",
       "      <td>10.400000</td>\n",
       "      <td>760.933333</td>\n",
       "      <td>91.666667</td>\n",
       "      <td>5.500000</td>\n",
       "      <td>40.000000</td>\n",
       "      <td>6.570000</td>\n",
       "      <td>37.583769</td>\n",
       "      <td>37.583769</td>\n",
       "    </tr>\n",
       "    <tr>\n",
       "      <th>max</th>\n",
       "      <td>1080.000000</td>\n",
       "      <td>70.000000</td>\n",
       "      <td>26.260000</td>\n",
       "      <td>63.360000</td>\n",
       "      <td>29.856667</td>\n",
       "      <td>56.026667</td>\n",
       "      <td>29.236000</td>\n",
       "      <td>50.163333</td>\n",
       "      <td>26.200000</td>\n",
       "      <td>51.090000</td>\n",
       "      <td>...</td>\n",
       "      <td>24.500000</td>\n",
       "      <td>53.326667</td>\n",
       "      <td>26.100000</td>\n",
       "      <td>772.300000</td>\n",
       "      <td>100.000000</td>\n",
       "      <td>14.000000</td>\n",
       "      <td>66.000000</td>\n",
       "      <td>15.500000</td>\n",
       "      <td>49.996530</td>\n",
       "      <td>49.996530</td>\n",
       "    </tr>\n",
       "  </tbody>\n",
       "</table>\n",
       "<p>8 rows × 28 columns</p>\n",
       "</div>"
      ],
      "text/plain": [
       "         Appliances        lights            T1          RH_1            T2  \\\n",
       "count  19735.000000  19735.000000  19735.000000  19735.000000  19735.000000   \n",
       "mean      97.694958      3.801875     21.686571     40.259739     20.341219   \n",
       "std      102.524891      7.935988      1.606066      3.979299      2.192974   \n",
       "min       10.000000      0.000000     16.790000     27.023333     16.100000   \n",
       "25%       50.000000      0.000000     20.760000     37.333333     18.790000   \n",
       "50%       60.000000      0.000000     21.600000     39.656667     20.000000   \n",
       "75%      100.000000      0.000000     22.600000     43.066667     21.500000   \n",
       "max     1080.000000     70.000000     26.260000     63.360000     29.856667   \n",
       "\n",
       "               RH_2            T3          RH_3            T4          RH_4  \\\n",
       "count  19735.000000  19735.000000  19735.000000  19735.000000  19735.000000   \n",
       "mean      40.420420     22.267611     39.242500     20.855335     39.026904   \n",
       "std        4.069813      2.006111      3.254576      2.042884      4.341321   \n",
       "min       20.463333     17.200000     28.766667     15.100000     27.660000   \n",
       "25%       37.900000     20.790000     36.900000     19.530000     35.530000   \n",
       "50%       40.500000     22.100000     38.530000     20.666667     38.400000   \n",
       "75%       43.260000     23.290000     41.760000     22.100000     42.156667   \n",
       "max       56.026667     29.236000     50.163333     26.200000     51.090000   \n",
       "\n",
       "           ...                 T9          RH_9         T_out   Press_mm_hg  \\\n",
       "count      ...       19735.000000  19735.000000  19735.000000  19735.000000   \n",
       "mean       ...          19.485828     41.552401      7.412580    755.522602   \n",
       "std        ...           2.014712      4.151497      5.318464      7.399441   \n",
       "min        ...          14.890000     29.166667     -5.000000    729.300000   \n",
       "25%        ...          18.000000     38.500000      3.670000    750.933333   \n",
       "50%        ...          19.390000     40.900000      6.920000    756.100000   \n",
       "75%        ...          20.600000     44.338095     10.400000    760.933333   \n",
       "max        ...          24.500000     53.326667     26.100000    772.300000   \n",
       "\n",
       "             RH_out     Windspeed    Visibility     Tdewpoint           rv1  \\\n",
       "count  19735.000000  19735.000000  19735.000000  19735.000000  19735.000000   \n",
       "mean      79.750418      4.039752     38.330834      3.760995     24.988033   \n",
       "std       14.901088      2.451221     11.794719      4.195248     14.496634   \n",
       "min       24.000000      0.000000      1.000000     -6.600000      0.005322   \n",
       "25%       70.333333      2.000000     29.000000      0.900000     12.497889   \n",
       "50%       83.666667      3.666667     40.000000      3.430000     24.897653   \n",
       "75%       91.666667      5.500000     40.000000      6.570000     37.583769   \n",
       "max      100.000000     14.000000     66.000000     15.500000     49.996530   \n",
       "\n",
       "                rv2  \n",
       "count  19735.000000  \n",
       "mean      24.988033  \n",
       "std       14.496634  \n",
       "min        0.005322  \n",
       "25%       12.497889  \n",
       "50%       24.897653  \n",
       "75%       37.583769  \n",
       "max       49.996530  \n",
       "\n",
       "[8 rows x 28 columns]"
      ]
     },
     "execution_count": 35,
     "metadata": {},
     "output_type": "execute_result"
    }
   ],
   "source": [
    "df.describe()"
   ]
  },
  {
   "cell_type": "code",
   "execution_count": 36,
   "metadata": {},
   "outputs": [],
   "source": [
    "df['date'] = pd.to_datetime(df.date)\n",
    "\n",
    "df['weekday'] = df['date'].dt.strftime('%A')\n",
    "\n",
    "df['Month'] = df['date'].dt.strftime('%m').astype('int64')\n",
    "\n",
    "df['Week_no'] = df['date'].dt.strftime('%W').astype('int64')\n",
    "\n",
    "df['Hour_of_the_day'] = df['date'].dt.strftime('%H').astype('int64')\n",
    "\n",
    "df['NSM'] = df['date'].dt.strftime('%H:%M:%S')\n",
    "df['NSM'] = df['NSM'].str.split(':').apply(lambda x: int(x[0]) * 3600 + int(x[1]) *60 + int(x[2]))\n",
    "\n",
    "df['WeekStatus'] = (df['date'].dt.strftime('%w').astype(int) < 5).astype('int64')\n",
    "\n",
    "df['date'] = df['date'].dt.strftime('%Y-%m-%d %H:%M:%S')\n",
    "\n",
    "W_Status = pd.get_dummies(df.WeekStatus,prefix='W_Status').astype('int64')\n",
    "Day_W = pd.get_dummies(df.weekday, prefix = 'Dy_w').astype('int64')\n",
    "\n",
    "df = pd.concat([df,W_Status,Day_W],axis=1)"
   ]
  },
  {
   "cell_type": "code",
   "execution_count": 37,
   "metadata": {},
   "outputs": [],
   "source": [
    "featureColumns = ['Appliances','NSM','lights','T1','RH_1','T2','RH_2','T3','RH_3','T4','RH_4','T5','RH_5','T6','RH_6',\n",
    "                  'T7','RH_7','T8','RH_8','T9','RH_9','T_out','RH_out','Visibility','Windspeed','Tdewpoint',\n",
    "                  'Press_mm_hg','W_Status_1','W_Status_0',\n",
    "                  'Dy_w_Monday','Dy_w_Tuesday','Dy_w_Wednesday','Dy_w_Thursday',\n",
    "                  'Dy_w_Friday','Dy_w_Saturday','Dy_w_Sunday']"
   ]
  },
  {
   "cell_type": "code",
   "execution_count": 38,
   "metadata": {},
   "outputs": [],
   "source": [
    "df = df[featureColumns]"
   ]
  },
  {
   "cell_type": "code",
   "execution_count": 39,
   "metadata": {},
   "outputs": [
    {
     "data": {
      "image/png": "[encoded data removed]",
      "text/plain": [
       "<Figure size 720x576 with 2 Axes>"
      ]
     },
     "metadata": {},
     "output_type": "display_data"
    }
   ],
   "source": [
    "f, ax = plt.subplots(figsize=(10, 8))\n",
    "corr = df.corr()\n",
    "sns.heatmap(corr, mask=np.zeros_like(corr, dtype=np.bool), cmap=sns.diverging_palette(220, 10, as_cmap=True),\n",
    "            square=True, ax=ax)\n",
    "plt.savefig(\"correlation.png\")"
   ]
  },
  {
   "cell_type": "code",
   "execution_count": 40,
   "metadata": {},
   "outputs": [],
   "source": [
    "X = df.drop(['Appliances'],axis=1)\n",
    "y = df['Appliances']\n",
    "\n",
    "X_train, X_test, y_train, y_test = train_test_split(X, y, test_size=0.25, random_state=42)"
   ]
  },
  {
   "cell_type": "code",
   "execution_count": 41,
   "metadata": {},
   "outputs": [
    {
     "data": {
      "text/plain": [
       "RandomForestRegressor(bootstrap=True, criterion='mse', max_depth=7,\n",
       "           max_features='auto', max_leaf_nodes=None,\n",
       "           min_impurity_decrease=0.0, min_impurity_split=None,\n",
       "           min_samples_leaf=1, min_samples_split=2,\n",
       "           min_weight_fraction_leaf=0.0, n_estimators=100, n_jobs=1,\n",
       "           oob_score=False, random_state=None, verbose=0, warm_start=False)"
      ]
     },
     "execution_count": 41,
     "metadata": {},
     "output_type": "execute_result"
    }
   ],
   "source": [
    "rf = RandomForestRegressor(n_estimators=100, max_depth=7)\n",
    "rf.fit(X_train, y_train)"
   ]
  },
  {
   "cell_type": "code",
   "execution_count": 42,
   "metadata": {},
   "outputs": [],
   "source": [
    "y_train_predicted = rf.predict(X_train)\n",
    "y_test_predicted = rf.predict(X_test)\n",
    "        \n",
    "#MAE, RMS, MAPE, R2\n",
    "    \n",
    "r2_train = r2_score(y_train, y_train_predicted)\n",
    "r2_test = r2_score(y_test, y_test_predicted)\n",
    "    \n",
    "rms_train = sqrt(mean_squared_error(y_train, y_train_predicted))\n",
    "rms_test = sqrt(mean_squared_error(y_test, y_test_predicted))"
   ]
  },
  {
   "cell_type": "code",
   "execution_count": 43,
   "metadata": {},
   "outputs": [
    {
     "data": {
      "text/plain": [
       "(0.36746700742114724,\n",
       " 0.27829672128782712,\n",
       " 82.27914632243053,\n",
       " 84.67171755319775)"
      ]
     },
     "execution_count": 43,
     "metadata": {},
     "output_type": "execute_result"
    }
   ],
   "source": [
    "r2_train,r2_test,rms_train, rms_test"
   ]
  },
  {
   "cell_type": "code",
   "execution_count": 44,
   "metadata": {},
   "outputs": [
    {
     "data": {
      "text/plain": [
       "Text(0,0.5,'Feature Importance Score')"
      ]
     },
     "execution_count": 44,
     "metadata": {},
     "output_type": "execute_result"
    },
    {
     "data": {
      "image/png": "[encoded data removed]",
      "text/plain": [
       "<Figure size 1080x576 with 1 Axes>"
      ]
     },
     "metadata": {},
     "output_type": "display_data"
    }
   ],
   "source": [
    "feat_imp = pd.Series(rf.feature_importances_,X_train.columns).sort_values(ascending=False)\n",
    "feat_imp.plot(kind='bar', title='Feature Importances',figsize = (15,8))\n",
    "plt.ylabel('Feature Importance Score')"
   ]
  },
  {
   "cell_type": "code",
   "execution_count": null,
   "metadata": {},
   "outputs": [],
   "source": []
  }
 ],
 "metadata": {
  "kernelspec": {
   "display_name": "Python 3",
   "language": "python",
   "name": "python3"
  },
  "language_info": {
   "codemirror_mode": {
    "name": "ipython",
    "version": 3
   },
   "file_extension": ".py",
   "mimetype": "text/x-python",
   "name": "python",
   "nbconvert_exporter": "python",
   "pygments_lexer": "ipython3",
   "version": "3.6.4"
  }
 },
 "nbformat": 4,
 "nbformat_minor": 2
}
